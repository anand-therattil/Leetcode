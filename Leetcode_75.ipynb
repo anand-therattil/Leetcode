{
  "nbformat": 4,
  "nbformat_minor": 0,
  "metadata": {
    "colab": {
      "provenance": [],
      "authorship_tag": "ABX9TyNYr0dOy+mBSCTyuGpJoS1R",
      "include_colab_link": true
    },
    "kernelspec": {
      "name": "python3",
      "display_name": "Python 3"
    },
    "language_info": {
      "name": "python"
    }
  },
  "cells": [
    {
      "cell_type": "markdown",
      "metadata": {
        "id": "view-in-github",
        "colab_type": "text"
      },
      "source": [
        "<a href=\"https://colab.research.google.com/github/anand-therattil/Leetcode/blob/main/Leetcode_75.ipynb\" target=\"_parent\"><img src=\"https://colab.research.google.com/assets/colab-badge.svg\" alt=\"Open In Colab\"/></a>"
      ]
    },
    {
      "cell_type": "markdown",
      "source": [
        "Q1. You are given two strings word1 and word2. Merge the strings by adding letters in alternating order, starting with word1. If a string is longer than the other, append the additional letters onto the end of the merged string.\n",
        "\n",
        "Return the merged string.<br>\n",
        "Examples:\n",
        "1.  <br>Input: word1 = \"abc\", word2 = \"pqr\"\n",
        "    <br>Output: \"apbqcr\"\n",
        "    <br>Explanation: The merged string will be merged as so:\n",
        "    <br>word1:  a   b   c\n",
        "    <br>word2:    p   q   r\n",
        "    <br>merged: a p b q c r\n",
        "2.  <br>Input: word1 = \"ab\", word2 = \"pqrs\"\n",
        "<br>Output: \"apbqrs\"\n",
        "<br>Explanation: Notice that as word2 is longer, \"rs\" is appended to the end.\n",
        "<br>word1:  a   b\n",
        "<br>word2:    p   q   r   s\n",
        "<br>merged: a p b q   r   s\n",
        "\n",
        "\n",
        "\n"
      ],
      "metadata": {
        "id": "32xJQhQ9iLHf"
      }
    },
    {
      "cell_type": "code",
      "source": [
        "class Solution:\n",
        "    def mergeAlternately(self, word1: str, word2: str) -> str:\n",
        "        alt_word =\"\"\n",
        "        length = range(max( len(word1), len(word2) ))\n",
        "        for i in length:\n",
        "            if(i<len(word1)):\n",
        "                alt_word += word1[i]\n",
        "            if(i<len(word2)):\n",
        "                alt_word += word2[i]\n",
        "        return alt_word\n",
        "\n",
        "# My Fastest Time: 22ms and Memory :16.6MB"
      ],
      "metadata": {
        "id": "fo7wpLOziQ9D"
      },
      "execution_count": null,
      "outputs": []
    },
    {
      "cell_type": "markdown",
      "source": [
        "Q2. For two strings s and t, we say \"t divides s\" if and only if s = t + t + t + ... + t + t (i.e., t is concatenated with itself one or more times).\n",
        "\n",
        "Given two strings str1 and str2, return the largest string x such that x divides both str1 and str2.\n",
        "<br>Examples\n",
        "\n",
        "\n",
        "1.   Input: str1 = \"ABCABC\", str2 = \"ABC\"\n",
        "      <br>Output: \"ABC\"\n",
        "2.   Input: str1 = \"ABABAB\", str2 = \"ABAB\"\n",
        "      <br> Output: \"AB\"\n",
        "\n"
      ],
      "metadata": {
        "id": "Yom45uehjMfF"
      }
    },
    {
      "cell_type": "code",
      "source": [
        "class Solution:\n",
        "    def gcdOfStrings(self, str1: str, str2: str) -> str:\n",
        "        if str1+str2 != str2+ str1:\n",
        "            return \"\"\n",
        "\n",
        "        a = len(str1)\n",
        "        b = len(str2)\n",
        "        while b !=0:\n",
        "            a , b = b, a%b\n",
        "        return str1[:a]\n",
        "    # My Fastest Time : 29ms Memory : 16.6MB"
      ],
      "metadata": {
        "id": "Gj2wVE4QjJCP"
      },
      "execution_count": null,
      "outputs": []
    },
    {
      "cell_type": "markdown",
      "source": [
        "There are n kids with candies. You are given an integer array candies, where each candies[i] represents the number of candies the ith kid has, and an integer extraCandies, denoting the number of extra candies that you have.\n",
        "\n",
        "Return a boolean array result of length n, where result[i] is true if, after giving the ith kid all the extraCandies, they will have the greatest number of candies among all the kids, or false otherwise.\n",
        "\n",
        "Note that multiple kids can have the greatest number of candies.\n",
        "\n",
        "Examples\n",
        "\n",
        "\n",
        "*   Input: candies = [12,1,12], extraCandies = 10\n",
        "<br>Output: [true,false,true]\n",
        "\n",
        "*   Input: candies = [4,2,1,1,2], extraCandies = 1\n",
        "<br>Output: [true,false,false,false,false]\n",
        "<br>Explanation: There is only 1 extra candy.\n",
        "<br>Kid 1 will always have the greatest number of candies, even if a different kid is given the extra candy.\n",
        "\n"
      ],
      "metadata": {
        "id": "N36aUsAa2K4C"
      }
    },
    {
      "cell_type": "code",
      "source": [
        "class Solution:\n",
        "    def kidsWithCandies(self, candies: List[int], extraCandies: int) -> List[bool]:\n",
        "        result = []\n",
        "        maxCandies = max(candies)\n",
        "\n",
        "        for i in candies:\n",
        "            if i + extraCandies >= maxCandies:\n",
        "                result.append(True)\n",
        "            else:\n",
        "                result.append(False)\n",
        "        return result\n",
        "\n",
        "#  MY Fastest Time : 38ms and Memory :16.8 MB"
      ],
      "metadata": {
        "id": "kLgNVa9S2LSA"
      },
      "execution_count": null,
      "outputs": []
    },
    {
      "cell_type": "markdown",
      "source": [
        "You have a long flowerbed in which some of the plots are planted, and some are not. However, flowers cannot be planted in adjacent plots.\n",
        "\n",
        "Given an integer array flowerbed containing 0's and 1's, where 0 means empty and 1 means not empty, and an integer n, return true if n new flowers can be planted in the flowerbed without violating the no-adjacent-flowers rule and false otherwise.\n",
        "\n",
        "\n",
        "\n",
        "1.   Input: flowerbed = [1,0,0,0,1], n = 1\n",
        "    <br>Output: true\n",
        "2.   Input: flowerbed = [1,0,0,0,1], n = 2\n",
        "    <br>Output: false\n",
        "\n"
      ],
      "metadata": {
        "id": "B9w8KIH0YqNH"
      }
    },
    {
      "cell_type": "code",
      "source": [
        "class Solution:\n",
        "    def canPlaceFlowers(self, flowerbed: List[int], n: int) -> bool:\n",
        "        if ( n==0 or (len(flowerbed) ==1 and flowerbed[0]==0) ):\n",
        "            return True\n",
        "        for i in range(len(flowerbed)):\n",
        "            if flowerbed[i] == 0 and (i == 0 or flowerbed[i-1] == 0) and (i == len(flowerbed)-1 or flowerbed[i+1] == 0):\n",
        "                flowerbed[i] = 1\n",
        "                n -= 1\n",
        "                if n == 0:\n",
        "                    return True\n",
        "        return False\n"
      ],
      "metadata": {
        "id": "XhefEgMFYqh5"
      },
      "execution_count": null,
      "outputs": []
    },
    {
      "cell_type": "markdown",
      "source": [
        "Given a string s, reverse only all the vowels in the string and return it.\n",
        "\n",
        "The vowels are 'a', 'e', 'i', 'o', and 'u', and they can appear in both lower and upper cases, more than once.\n",
        "\n",
        "Examples\n",
        "1. Input: s = \"hello\" <br> Output: \"holle\"\n",
        "2. Input: s = \"leetcode\" <br> Output: \"leotcede\""
      ],
      "metadata": {
        "id": "AZAXrDvWGyQq"
      }
    },
    {
      "cell_type": "code",
      "source": [
        "class Solution:\n",
        "    def reverseVowels(self, s: str) -> str:\n",
        "\n",
        "        vowels = ['a','e','i','o','u','A','E','I','O','U']\n",
        "        vowel_dict = {}\n",
        "        string_dict ={}\n",
        "        s = list(s)\n",
        "        for index, element in enumerate(s):\n",
        "            string_dict[index] = element\n",
        "        print(string_dict)\n",
        "        for key, value in string_dict.items():\n",
        "            if(value in vowels):\n",
        "                vowel_dict[key]= value\n",
        "        vowel_value_reverse  = list(vowel_dict.values())[::-1]\n",
        "        index =0\n",
        "        for key,value in vowel_dict.items():\n",
        "            string_dict[key] = vowel_value_reverse[index]\n",
        "            index = index +1\n",
        "        print(string_dict)\n",
        "        final_string = \"\".join(list(string_dict.values()))\n",
        "        return final_string\n",
        "# The performance is bad 82 ms and 30.92 MB"
      ],
      "metadata": {
        "id": "yxlpJyMPGyqT"
      },
      "execution_count": null,
      "outputs": []
    },
    {
      "cell_type": "markdown",
      "source": [
        "Given an input string s, reverse the order of the words.\n",
        "\n",
        "A word is defined as a sequence of non-space characters. The words in s will be separated by at least one space.\n",
        "\n",
        "Return a string of the words in reverse order concatenated by a single space.\n",
        "\n",
        "Note that s may contain leading or trailing spaces or multiple spaces between two words. The returned string should only have a single space separating the words. Do not include any extra spaces.\n",
        "\n",
        " Examples:\n",
        " 1. Input: s = \"the sky is blue\"\n",
        "<br>Output: \"blue is sky the\"\n",
        "\n",
        "2. Input: s = \"  hello world  \" <br>\n",
        "Output: \"world hello\""
      ],
      "metadata": {
        "id": "f8KBGOX-VF5P"
      }
    },
    {
      "cell_type": "code",
      "source": [
        "import re\n",
        "class Solution:\n",
        "    def reverseWords(self, s: str) -> str:\n",
        "        s = s.strip()\n",
        "        s =re.sub(r\"  +\",\" \",s)\n",
        "        s = s.split(\" \")\n",
        "\n",
        "        s.reverse()\n",
        "        s = \" \".join(s)a\n",
        "        return s"
      ],
      "metadata": {
        "id": "xV_romXXVFQl"
      },
      "execution_count": null,
      "outputs": []
    },
    {
      "cell_type": "markdown",
      "source": [
        "Given an integer array nums, return an array answer such that answer[i] is equal to the product of all the elements of nums except nums[i].\n",
        "\n",
        "The product of any prefix or suffix of nums is guaranteed to fit in a 32-bit integer.\n",
        "\n",
        "You must write an algorithm that runs in O(n) time and without using the division operation.\n",
        "\n",
        " Examples:\n",
        " 1. Input: nums = [1,2,3,4] <br>\n",
        "    Output: [24,12,8,6]\n",
        " 2. Input: nums = [-1,1,0,-3,3] <br>\n",
        "Output: [0,0,9,0,0]"
      ],
      "metadata": {
        "id": "AmJO-9H65EH-"
      }
    },
    {
      "cell_type": "code",
      "source": [
        "import numpy\n",
        "class Solution:\n",
        "    def productExceptSelf(self, nums: List[int]) -> List[int]:\n",
        "        if (len(nums)<=2):\n",
        "            return nums[::-1]\n",
        "        else:\n",
        "\n",
        "            pre = 1\n",
        "            post = 1\n",
        "            n = len(nums)\n",
        "            results = [1]*n\n",
        "\n",
        "            for i in range(1,n):\n",
        "                results[0] =results[0] * nums[i]\n",
        "\n",
        "            for i in range(0,n-1):\n",
        "                results[-1] =results[-1] * nums[i]\n",
        "\n",
        "            for i in range(1,n-1):\n",
        "                pre = pre * nums[i-1]\n",
        "                post = post * nums[n-i]\n",
        "                results[i] = results[i] * pre\n",
        "                results[n-i-1] = results[n-i-1]  * post\n",
        "            return results\n",
        "  # Not Good results 364 ms and 46.64MB memory"
      ],
      "metadata": {
        "id": "CqM_qza05Ol0"
      },
      "execution_count": null,
      "outputs": []
    }
  ]
}