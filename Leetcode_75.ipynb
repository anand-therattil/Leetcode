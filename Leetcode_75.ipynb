{
  "nbformat": 4,
  "nbformat_minor": 0,
  "metadata": {
    "colab": {
      "provenance": [],
      "authorship_tag": "ABX9TyNP09oFMVvAZQMcyNsB+RXn",
      "include_colab_link": true
    },
    "kernelspec": {
      "name": "python3",
      "display_name": "Python 3"
    },
    "language_info": {
      "name": "python"
    }
  },
  "cells": [
    {
      "cell_type": "markdown",
      "metadata": {
        "id": "view-in-github",
        "colab_type": "text"
      },
      "source": [
        "<a href=\"https://colab.research.google.com/github/anand-therattil/Leetcode/blob/main/Leetcode_75.ipynb\" target=\"_parent\"><img src=\"https://colab.research.google.com/assets/colab-badge.svg\" alt=\"Open In Colab\"/></a>"
      ]
    },
    {
      "cell_type": "markdown",
      "source": [
        "Q1. You are given two strings word1 and word2. Merge the strings by adding letters in alternating order, starting with word1. If a string is longer than the other, append the additional letters onto the end of the merged string.\n",
        "\n",
        "Return the merged string.<br>\n",
        "Examples:\n",
        "1.  <br>Input: word1 = \"abc\", word2 = \"pqr\"\n",
        "    <br>Output: \"apbqcr\"\n",
        "    <br>Explanation: The merged string will be merged as so:\n",
        "    <br>word1:  a   b   c\n",
        "    <br>word2:    p   q   r\n",
        "    <br>merged: a p b q c r\n",
        "2.  <br>Input: word1 = \"ab\", word2 = \"pqrs\"\n",
        "<br>Output: \"apbqrs\"\n",
        "<br>Explanation: Notice that as word2 is longer, \"rs\" is appended to the end.\n",
        "<br>word1:  a   b\n",
        "<br>word2:    p   q   r   s\n",
        "<br>merged: a p b q   r   s\n",
        "\n",
        "\n",
        "\n"
      ],
      "metadata": {
        "id": "32xJQhQ9iLHf"
      }
    },
    {
      "cell_type": "code",
      "source": [
        "class Solution:\n",
        "    def mergeAlternately(self, word1: str, word2: str) -> str:\n",
        "        alt_word =\"\"\n",
        "        length = range(max( len(word1), len(word2) ))\n",
        "        for i in length:\n",
        "            if(i<len(word1)):\n",
        "                alt_word += word1[i]\n",
        "            if(i<len(word2)):\n",
        "                alt_word += word2[i]\n",
        "        return alt_word\n",
        "\n",
        "# My Fastest Time: 22ms and Memory :16.6MB"
      ],
      "metadata": {
        "id": "fo7wpLOziQ9D"
      },
      "execution_count": null,
      "outputs": []
    },
    {
      "cell_type": "markdown",
      "source": [
        "Q2. For two strings s and t, we say \"t divides s\" if and only if s = t + t + t + ... + t + t (i.e., t is concatenated with itself one or more times).\n",
        "\n",
        "Given two strings str1 and str2, return the largest string x such that x divides both str1 and str2.\n",
        "<br>Examples\n",
        "\n",
        "\n",
        "1.   Input: str1 = \"ABCABC\", str2 = \"ABC\"\n",
        "      <br>Output: \"ABC\"\n",
        "2.   Input: str1 = \"ABABAB\", str2 = \"ABAB\"\n",
        "      <br> Output: \"AB\"\n",
        "\n"
      ],
      "metadata": {
        "id": "Yom45uehjMfF"
      }
    },
    {
      "cell_type": "code",
      "source": [
        "class Solution:\n",
        "    def gcdOfStrings(self, str1: str, str2: str) -> str:\n",
        "        if str1+str2 != str2+ str1:\n",
        "            return \"\"\n",
        "\n",
        "        a = len(str1)\n",
        "        b = len(str2)\n",
        "        while b !=0:\n",
        "            a , b = b, a%b\n",
        "        return str1[:a]\n",
        "    # My Fastest Time : 29ms Memory : 16.6MB"
      ],
      "metadata": {
        "id": "Gj2wVE4QjJCP"
      },
      "execution_count": null,
      "outputs": []
    }
  ]
}